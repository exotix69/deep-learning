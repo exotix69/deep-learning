{
  "nbformat": 4,
  "nbformat_minor": 0,
  "metadata": {
    "colab": {
      "provenance": [],
      "gpuType": "T4",
      "mount_file_id": "1nheZni231Lh0Gd7DNWbz9jxgBaKGqvQv",
      "authorship_tag": "ABX9TyMOWfWgWM6xl2Inu/DijJ3e",
      "include_colab_link": true
    },
    "kernelspec": {
      "name": "python3",
      "display_name": "Python 3"
    },
    "language_info": {
      "name": "python"
    },
    "accelerator": "GPU"
  },
  "cells": [
    {
      "cell_type": "markdown",
      "metadata": {
        "id": "view-in-github",
        "colab_type": "text"
      },
      "source": [
        "<a href=\"https://colab.research.google.com/github/exotix69/deep-learning/blob/main/DL1ipynb.ipynb\" target=\"_parent\"><img src=\"https://colab.research.google.com/assets/colab-badge.svg\" alt=\"Open In Colab\"/></a>"
      ]
    },
    {
      "cell_type": "code",
      "execution_count": 28,
      "metadata": {
        "colab": {
          "base_uri": "https://localhost:8080/"
        },
        "id": "erc2-E5_AlK_",
        "outputId": "fd8d72cf-03dc-4d7d-9433-44945fa060bd"
      },
      "outputs": [
        {
          "output_type": "stream",
          "name": "stdout",
          "text": [
            "DIABETES.csv  DL1ipynb\n",
            "/content/drive/My Drive/Colab Notebooks\n",
            "DIABETES.csv  DL1ipynb\n"
          ]
        }
      ],
      "source": [
        "import pandas as pd\n",
        "!ls\n",
        "%cd /content/drive/My Drive/Colab Notebooks\n",
        "!ls\n"
      ]
    },
    {
      "cell_type": "code",
      "source": [
        "data = pd.read_csv('DIABETES.csv')\n",
        "print(data.describe())"
      ],
      "metadata": {
        "colab": {
          "base_uri": "https://localhost:8080/"
        },
        "id": "tZxCXvF7JNKq",
        "outputId": "6aa423a8-cd71-422b-dde6-ca44362ba5f1"
      },
      "execution_count": 27,
      "outputs": [
        {
          "output_type": "stream",
          "name": "stdout",
          "text": [
            "       Pregnancies    Glucose  BloodPressure  SkinThickness     Insulin  \\\n",
            "count   738.000000  738.00000     738.000000     738.000000  738.000000   \n",
            "mean      3.779133  120.52168      69.128726      20.659892   78.884824   \n",
            "std       3.337424   31.90603      19.166937      15.908133  111.778233   \n",
            "min       0.000000    0.00000       0.000000       0.000000    0.000000   \n",
            "25%       1.000000   99.00000      62.000000       0.000000    0.000000   \n",
            "50%       3.000000  117.00000      72.000000      23.000000   34.000000   \n",
            "75%       6.000000  140.00000      80.000000      32.000000  126.750000   \n",
            "max      17.000000  199.00000     122.000000      99.000000  744.000000   \n",
            "\n",
            "              BMI  DiabetesPedigreeFunction         Age     Outcome  \n",
            "count  738.000000                738.000000  738.000000  738.000000  \n",
            "mean    32.007046                  0.472327   33.036585    0.338753  \n",
            "std      7.856792                  0.327017   11.738791    0.473607  \n",
            "min      0.000000                  0.078000   21.000000    0.000000  \n",
            "25%     27.300000                  0.244000   24.000000    0.000000  \n",
            "50%     32.000000                  0.374500   29.000000    0.000000  \n",
            "75%     36.500000                  0.630750   40.000000    1.000000  \n",
            "max     67.100000                  2.420000   81.000000    1.000000  \n"
          ]
        }
      ]
    }
  ]
}